{
 "cells": [
  {
   "cell_type": "markdown",
   "metadata": {},
   "source": [
    "### Libraries"
   ]
  },
  {
   "cell_type": "code",
   "execution_count": 2,
   "metadata": {},
   "outputs": [],
   "source": [
    "import numpy as np \n",
    "import pandas as pd \n",
    "import seaborn as sns \n",
    "import matplotlib.pyplot as plt \n",
    "\n",
    "from sklearn import tree\n",
    "from sklearn.metrics import RocCurveDisplay\n",
    "from sklearn.tree import DecisionTreeClassifier\n",
    "from sklearn.ensemble import RandomForestClassifier\n",
    "from sklearn.model_selection import train_test_split\n",
    "from sklearn.metrics import classification_report, confusion_matrix\n"
   ]
  },
  {
   "cell_type": "markdown",
   "metadata": {},
   "source": [
    "### Import data"
   ]
  },
  {
   "cell_type": "code",
   "execution_count": 3,
   "metadata": {},
   "outputs": [
    {
     "data": {
      "text/html": [
       "<div>\n",
       "<style scoped>\n",
       "    .dataframe tbody tr th:only-of-type {\n",
       "        vertical-align: middle;\n",
       "    }\n",
       "\n",
       "    .dataframe tbody tr th {\n",
       "        vertical-align: top;\n",
       "    }\n",
       "\n",
       "    .dataframe thead th {\n",
       "        text-align: right;\n",
       "    }\n",
       "</style>\n",
       "<table border=\"1\" class=\"dataframe\">\n",
       "  <thead>\n",
       "    <tr style=\"text-align: right;\">\n",
       "      <th></th>\n",
       "      <th>id</th>\n",
       "      <th>bfs_name</th>\n",
       "      <th>bfs_number</th>\n",
       "      <th>lat</th>\n",
       "      <th>lon</th>\n",
       "      <th>brand</th>\n",
       "      <th>pop</th>\n",
       "      <th>pop_dens</th>\n",
       "      <th>frg_pct</th>\n",
       "      <th>emp</th>\n",
       "    </tr>\n",
       "  </thead>\n",
       "  <tbody>\n",
       "    <tr>\n",
       "      <th>0</th>\n",
       "      <td>33126515</td>\n",
       "      <td>Schänis</td>\n",
       "      <td>3315</td>\n",
       "      <td>47.155616</td>\n",
       "      <td>9.037915</td>\n",
       "      <td>Spar</td>\n",
       "      <td>3876</td>\n",
       "      <td>97.142857</td>\n",
       "      <td>13.054696</td>\n",
       "      <td>1408.0</td>\n",
       "    </tr>\n",
       "    <tr>\n",
       "      <th>1</th>\n",
       "      <td>280130028</td>\n",
       "      <td>Schänis</td>\n",
       "      <td>3315</td>\n",
       "      <td>47.155492</td>\n",
       "      <td>9.039666</td>\n",
       "      <td>ALDI</td>\n",
       "      <td>3876</td>\n",
       "      <td>97.142857</td>\n",
       "      <td>13.054696</td>\n",
       "      <td>1408.0</td>\n",
       "    </tr>\n",
       "    <tr>\n",
       "      <th>2</th>\n",
       "      <td>6122906632</td>\n",
       "      <td>Schänis</td>\n",
       "      <td>3315</td>\n",
       "      <td>47.158959</td>\n",
       "      <td>9.044477</td>\n",
       "      <td>Denner</td>\n",
       "      <td>3876</td>\n",
       "      <td>97.142857</td>\n",
       "      <td>13.054696</td>\n",
       "      <td>1408.0</td>\n",
       "    </tr>\n",
       "    <tr>\n",
       "      <th>3</th>\n",
       "      <td>9019298862</td>\n",
       "      <td>Schänis</td>\n",
       "      <td>3315</td>\n",
       "      <td>47.155185</td>\n",
       "      <td>9.038472</td>\n",
       "      <td>Lidl</td>\n",
       "      <td>3876</td>\n",
       "      <td>97.142857</td>\n",
       "      <td>13.054696</td>\n",
       "      <td>1408.0</td>\n",
       "    </tr>\n",
       "    <tr>\n",
       "      <th>4</th>\n",
       "      <td>36726161</td>\n",
       "      <td>Uznach</td>\n",
       "      <td>3339</td>\n",
       "      <td>47.226191</td>\n",
       "      <td>8.980329</td>\n",
       "      <td>Migros</td>\n",
       "      <td>6489</td>\n",
       "      <td>860.610080</td>\n",
       "      <td>27.862537</td>\n",
       "      <td>3500.0</td>\n",
       "    </tr>\n",
       "  </tbody>\n",
       "</table>\n",
       "</div>"
      ],
      "text/plain": [
       "           id bfs_name  bfs_number        lat       lon   brand   pop  \\\n",
       "0    33126515  Schänis        3315  47.155616  9.037915    Spar  3876   \n",
       "1   280130028  Schänis        3315  47.155492  9.039666    ALDI  3876   \n",
       "2  6122906632  Schänis        3315  47.158959  9.044477  Denner  3876   \n",
       "3  9019298862  Schänis        3315  47.155185  9.038472    Lidl  3876   \n",
       "4    36726161   Uznach        3339  47.226191  8.980329  Migros  6489   \n",
       "\n",
       "     pop_dens    frg_pct     emp  \n",
       "0   97.142857  13.054696  1408.0  \n",
       "1   97.142857  13.054696  1408.0  \n",
       "2   97.142857  13.054696  1408.0  \n",
       "3   97.142857  13.054696  1408.0  \n",
       "4  860.610080  27.862537  3500.0  "
      ]
     },
     "execution_count": 3,
     "metadata": {},
     "output_type": "execute_result"
    }
   ],
   "source": [
    "df_supermarkets = pd.read_csv('supermarkets_data_enriched.csv')[['id',\n",
    "                                                                'bfs_name',\n",
    "                                                                'bfs_number',\n",
    "                                                                'lat',\n",
    "                                                                'lon',\n",
    "                                                                'brand',\n",
    "                                                                'pop',\n",
    "                                                                'pop_dens',\n",
    "                                                                'frg_pct',\n",
    "                                                                'emp']]\n",
    "df_supermarkets.head(5)"
   ]
  },
  {
   "cell_type": "markdown",
   "metadata": {},
   "source": [
    "remove missing values"
   ]
  },
  {
   "cell_type": "code",
   "execution_count": 4,
   "metadata": {},
   "outputs": [
    {
     "data": {
      "text/html": [
       "<div>\n",
       "<style scoped>\n",
       "    .dataframe tbody tr th:only-of-type {\n",
       "        vertical-align: middle;\n",
       "    }\n",
       "\n",
       "    .dataframe tbody tr th {\n",
       "        vertical-align: top;\n",
       "    }\n",
       "\n",
       "    .dataframe thead th {\n",
       "        text-align: right;\n",
       "    }\n",
       "</style>\n",
       "<table border=\"1\" class=\"dataframe\">\n",
       "  <thead>\n",
       "    <tr style=\"text-align: right;\">\n",
       "      <th></th>\n",
       "      <th>id</th>\n",
       "      <th>bfs_name</th>\n",
       "      <th>bfs_number</th>\n",
       "      <th>lat</th>\n",
       "      <th>lon</th>\n",
       "      <th>brand</th>\n",
       "      <th>pop</th>\n",
       "      <th>pop_dens</th>\n",
       "      <th>frg_pct</th>\n",
       "      <th>emp</th>\n",
       "    </tr>\n",
       "  </thead>\n",
       "  <tbody>\n",
       "    <tr>\n",
       "      <th>0</th>\n",
       "      <td>33126515</td>\n",
       "      <td>Schänis</td>\n",
       "      <td>3315</td>\n",
       "      <td>47.155616</td>\n",
       "      <td>9.037915</td>\n",
       "      <td>Spar</td>\n",
       "      <td>3876</td>\n",
       "      <td>97.142857</td>\n",
       "      <td>13.054696</td>\n",
       "      <td>1408.0</td>\n",
       "    </tr>\n",
       "    <tr>\n",
       "      <th>1</th>\n",
       "      <td>280130028</td>\n",
       "      <td>Schänis</td>\n",
       "      <td>3315</td>\n",
       "      <td>47.155492</td>\n",
       "      <td>9.039666</td>\n",
       "      <td>ALDI</td>\n",
       "      <td>3876</td>\n",
       "      <td>97.142857</td>\n",
       "      <td>13.054696</td>\n",
       "      <td>1408.0</td>\n",
       "    </tr>\n",
       "    <tr>\n",
       "      <th>2</th>\n",
       "      <td>6122906632</td>\n",
       "      <td>Schänis</td>\n",
       "      <td>3315</td>\n",
       "      <td>47.158959</td>\n",
       "      <td>9.044477</td>\n",
       "      <td>Denner</td>\n",
       "      <td>3876</td>\n",
       "      <td>97.142857</td>\n",
       "      <td>13.054696</td>\n",
       "      <td>1408.0</td>\n",
       "    </tr>\n",
       "    <tr>\n",
       "      <th>3</th>\n",
       "      <td>9019298862</td>\n",
       "      <td>Schänis</td>\n",
       "      <td>3315</td>\n",
       "      <td>47.155185</td>\n",
       "      <td>9.038472</td>\n",
       "      <td>Lidl</td>\n",
       "      <td>3876</td>\n",
       "      <td>97.142857</td>\n",
       "      <td>13.054696</td>\n",
       "      <td>1408.0</td>\n",
       "    </tr>\n",
       "    <tr>\n",
       "      <th>4</th>\n",
       "      <td>36726161</td>\n",
       "      <td>Uznach</td>\n",
       "      <td>3339</td>\n",
       "      <td>47.226191</td>\n",
       "      <td>8.980329</td>\n",
       "      <td>Migros</td>\n",
       "      <td>6489</td>\n",
       "      <td>860.610080</td>\n",
       "      <td>27.862537</td>\n",
       "      <td>3500.0</td>\n",
       "    </tr>\n",
       "  </tbody>\n",
       "</table>\n",
       "</div>"
      ],
      "text/plain": [
       "           id bfs_name  bfs_number        lat       lon   brand   pop  \\\n",
       "0    33126515  Schänis        3315  47.155616  9.037915    Spar  3876   \n",
       "1   280130028  Schänis        3315  47.155492  9.039666    ALDI  3876   \n",
       "2  6122906632  Schänis        3315  47.158959  9.044477  Denner  3876   \n",
       "3  9019298862  Schänis        3315  47.155185  9.038472    Lidl  3876   \n",
       "4    36726161   Uznach        3339  47.226191  8.980329  Migros  6489   \n",
       "\n",
       "     pop_dens    frg_pct     emp  \n",
       "0   97.142857  13.054696  1408.0  \n",
       "1   97.142857  13.054696  1408.0  \n",
       "2   97.142857  13.054696  1408.0  \n",
       "3   97.142857  13.054696  1408.0  \n",
       "4  860.610080  27.862537  3500.0  "
      ]
     },
     "execution_count": 4,
     "metadata": {},
     "output_type": "execute_result"
    }
   ],
   "source": [
    "df_supermarkets.dropna(inplace=True)\n",
    "df_supermarkets.head(5)"
   ]
  },
  {
   "cell_type": "markdown",
   "metadata": {},
   "source": [
    "subset"
   ]
  },
  {
   "cell_type": "code",
   "execution_count": 5,
   "metadata": {},
   "outputs": [
    {
     "data": {
      "text/html": [
       "<div>\n",
       "<style scoped>\n",
       "    .dataframe tbody tr th:only-of-type {\n",
       "        vertical-align: middle;\n",
       "    }\n",
       "\n",
       "    .dataframe tbody tr th {\n",
       "        vertical-align: top;\n",
       "    }\n",
       "\n",
       "    .dataframe thead th {\n",
       "        text-align: right;\n",
       "    }\n",
       "</style>\n",
       "<table border=\"1\" class=\"dataframe\">\n",
       "  <thead>\n",
       "    <tr style=\"text-align: right;\">\n",
       "      <th></th>\n",
       "      <th>id</th>\n",
       "      <th>bfs_name</th>\n",
       "      <th>bfs_number</th>\n",
       "      <th>lat</th>\n",
       "      <th>lon</th>\n",
       "      <th>brand</th>\n",
       "      <th>pop</th>\n",
       "      <th>pop_dens</th>\n",
       "      <th>frg_pct</th>\n",
       "      <th>emp</th>\n",
       "    </tr>\n",
       "  </thead>\n",
       "  <tbody>\n",
       "    <tr>\n",
       "      <th>4</th>\n",
       "      <td>36726161</td>\n",
       "      <td>Uznach</td>\n",
       "      <td>3339</td>\n",
       "      <td>47.226191</td>\n",
       "      <td>8.980329</td>\n",
       "      <td>Migros</td>\n",
       "      <td>6489</td>\n",
       "      <td>860.610080</td>\n",
       "      <td>27.862537</td>\n",
       "      <td>3500.0</td>\n",
       "    </tr>\n",
       "    <tr>\n",
       "      <th>8</th>\n",
       "      <td>48932835</td>\n",
       "      <td>Zürich</td>\n",
       "      <td>261</td>\n",
       "      <td>47.375020</td>\n",
       "      <td>8.522895</td>\n",
       "      <td>Migros</td>\n",
       "      <td>420217</td>\n",
       "      <td>4778.994655</td>\n",
       "      <td>32.458468</td>\n",
       "      <td>491193.0</td>\n",
       "    </tr>\n",
       "    <tr>\n",
       "      <th>11</th>\n",
       "      <td>83330862</td>\n",
       "      <td>Zürich</td>\n",
       "      <td>261</td>\n",
       "      <td>47.344749</td>\n",
       "      <td>8.529981</td>\n",
       "      <td>Migros</td>\n",
       "      <td>420217</td>\n",
       "      <td>4778.994655</td>\n",
       "      <td>32.458468</td>\n",
       "      <td>491193.0</td>\n",
       "    </tr>\n",
       "    <tr>\n",
       "      <th>12</th>\n",
       "      <td>119249170</td>\n",
       "      <td>Zürich</td>\n",
       "      <td>261</td>\n",
       "      <td>47.375255</td>\n",
       "      <td>8.536107</td>\n",
       "      <td>Migros</td>\n",
       "      <td>420217</td>\n",
       "      <td>4778.994655</td>\n",
       "      <td>32.458468</td>\n",
       "      <td>491193.0</td>\n",
       "    </tr>\n",
       "    <tr>\n",
       "      <th>15</th>\n",
       "      <td>262400822</td>\n",
       "      <td>Zürich</td>\n",
       "      <td>261</td>\n",
       "      <td>47.364072</td>\n",
       "      <td>8.530945</td>\n",
       "      <td>Migros</td>\n",
       "      <td>420217</td>\n",
       "      <td>4778.994655</td>\n",
       "      <td>32.458468</td>\n",
       "      <td>491193.0</td>\n",
       "    </tr>\n",
       "  </tbody>\n",
       "</table>\n",
       "</div>"
      ],
      "text/plain": [
       "           id bfs_name  bfs_number        lat       lon   brand     pop  \\\n",
       "4    36726161   Uznach        3339  47.226191  8.980329  Migros    6489   \n",
       "8    48932835   Zürich         261  47.375020  8.522895  Migros  420217   \n",
       "11   83330862   Zürich         261  47.344749  8.529981  Migros  420217   \n",
       "12  119249170   Zürich         261  47.375255  8.536107  Migros  420217   \n",
       "15  262400822   Zürich         261  47.364072  8.530945  Migros  420217   \n",
       "\n",
       "       pop_dens    frg_pct       emp  \n",
       "4    860.610080  27.862537    3500.0  \n",
       "8   4778.994655  32.458468  491193.0  \n",
       "11  4778.994655  32.458468  491193.0  \n",
       "12  4778.994655  32.458468  491193.0  \n",
       "15  4778.994655  32.458468  491193.0  "
      ]
     },
     "execution_count": 5,
     "metadata": {},
     "output_type": "execute_result"
    }
   ],
   "source": [
    "df_sub = df_supermarkets.loc[df_supermarkets['brand'].isin(['Migros', 'Volg'])]\n",
    "df_sub.head(5)"
   ]
  },
  {
   "cell_type": "markdown",
   "metadata": {},
   "source": [
    "train/ test samples from subset"
   ]
  },
  {
   "cell_type": "code",
   "execution_count": 6,
   "metadata": {},
   "outputs": [],
   "source": [
    "x_train, x_test, y_train, y_test = train_test_split(df_sub[['lat',\n",
    "                                                            'lon',\n",
    "                                                            'pop',\n",
    "                                                            'pop_dens',\n",
    "                                                            'frg_pct',\n",
    "                                                            'emp']],\n",
    "                                                            df_sub['brand'],\n",
    "                                                            test_size= 0.2,\n",
    "                                                            random_state=10)\n"
   ]
  },
  {
   "cell_type": "markdown",
   "metadata": {},
   "source": [
    "### Fit classification tree"
   ]
  },
  {
   "cell_type": "code",
   "execution_count": 7,
   "metadata": {},
   "outputs": [],
   "source": [
    "ctree = DecisionTreeClassifier(random_state=10,\n",
    "                               max_depth= 5)\n",
    "ctfit = ctree.fit(x_train, y_train)\n",
    "\n",
    "ctpred = ctfit.predict(x_test)"
   ]
  },
  {
   "cell_type": "markdown",
   "metadata": {},
   "source": [
    "Tree text representation and visualization"
   ]
  },
  {
   "cell_type": "code",
   "execution_count": 8,
   "metadata": {},
   "outputs": [
    {
     "name": "stdout",
     "output_type": "stream",
     "text": [
      "|--- pop <= 3615.00\n",
      "|   |--- lat <= 46.38\n",
      "|   |   |--- pop_dens <= 19.41\n",
      "|   |   |   |--- class: Volg\n",
      "|   |   |--- pop_dens >  19.41\n",
      "|   |   |   |--- lon <= 7.45\n",
      "|   |   |   |   |--- pop_dens <= 129.20\n",
      "|   |   |   |   |   |--- class: Migros\n",
      "|   |   |   |   |--- pop_dens >  129.20\n",
      "|   |   |   |   |   |--- class: Volg\n",
      "|   |   |   |--- lon >  7.45\n",
      "|   |   |   |   |--- class: Migros\n",
      "|   |--- lat >  46.38\n",
      "|   |   |--- lon <= 7.11\n",
      "|   |   |   |--- lon <= 6.57\n",
      "|   |   |   |   |--- lat <= 46.50\n",
      "|   |   |   |   |   |--- class: Migros\n",
      "|   |   |   |   |--- lat >  46.50\n",
      "|   |   |   |   |   |--- class: Volg\n",
      "|   |   |   |--- lon >  6.57\n",
      "|   |   |   |   |--- class: Migros\n",
      "|   |   |--- lon >  7.11\n",
      "|   |   |   |--- emp <= 1577.50\n",
      "|   |   |   |   |--- emp <= 795.00\n",
      "|   |   |   |   |   |--- class: Volg\n",
      "|   |   |   |   |--- emp >  795.00\n",
      "|   |   |   |   |   |--- class: Volg\n",
      "|   |   |   |--- emp >  1577.50\n",
      "|   |   |   |   |--- lon <= 9.36\n",
      "|   |   |   |   |   |--- class: Volg\n",
      "|   |   |   |   |--- lon >  9.36\n",
      "|   |   |   |   |   |--- class: Migros\n",
      "|--- pop >  3615.00\n",
      "|   |--- pop_dens <= 28.81\n",
      "|   |   |--- class: Volg\n",
      "|   |--- pop_dens >  28.81\n",
      "|   |   |--- lon <= 8.45\n",
      "|   |   |   |--- emp <= 1321.50\n",
      "|   |   |   |   |--- lon <= 8.09\n",
      "|   |   |   |   |   |--- class: Migros\n",
      "|   |   |   |   |--- lon >  8.09\n",
      "|   |   |   |   |   |--- class: Volg\n",
      "|   |   |   |--- emp >  1321.50\n",
      "|   |   |   |   |--- pop_dens <= 253.81\n",
      "|   |   |   |   |   |--- class: Migros\n",
      "|   |   |   |   |--- pop_dens >  253.81\n",
      "|   |   |   |   |   |--- class: Migros\n",
      "|   |   |--- lon >  8.45\n",
      "|   |   |   |--- frg_pct <= 17.39\n",
      "|   |   |   |   |--- emp <= 1808.50\n",
      "|   |   |   |   |   |--- class: Volg\n",
      "|   |   |   |   |--- emp >  1808.50\n",
      "|   |   |   |   |   |--- class: Migros\n",
      "|   |   |   |--- frg_pct >  17.39\n",
      "|   |   |   |   |--- pop <= 32812.50\n",
      "|   |   |   |   |   |--- class: Migros\n",
      "|   |   |   |   |--- pop >  32812.50\n",
      "|   |   |   |   |   |--- class: Migros\n",
      "\n"
     ]
    }
   ],
   "source": [
    "text = tree.export_text(ctfit,\n",
    "                        feature_names= list(x_test.columns))\n",
    "\n",
    "print(text)"
   ]
  },
  {
   "cell_type": "code",
   "execution_count": 9,
   "metadata": {},
   "outputs": [
    {
     "data": {
      "text/plain": [
       "[Text(0.44921875, 0.9166666666666666, 'pop <= 3615.0\\ngini = 0.41\\nsamples = 556\\nvalue = [396, 160]\\nclass = Migros'),\n",
       " Text(0.1796875, 0.75, 'lat <= 46.385\\ngini = 0.325\\nsamples = 142\\nvalue = [29, 113]\\nclass = Migros'),\n",
       " Text(0.314453125, 0.8333333333333333, 'True  '),\n",
       " Text(0.0625, 0.5833333333333334, 'pop_dens <= 19.413\\ngini = 0.391\\nsamples = 15\\nvalue = [11, 4]\\nclass = Migros'),\n",
       " Text(0.03125, 0.4166666666666667, 'gini = 0.0\\nsamples = 3\\nvalue = [0, 3]\\nclass = Migros'),\n",
       " Text(0.09375, 0.4166666666666667, 'lon <= 7.447\\ngini = 0.153\\nsamples = 12\\nvalue = [11, 1]\\nclass = Migros'),\n",
       " Text(0.0625, 0.25, 'pop_dens <= 129.202\\ngini = 0.5\\nsamples = 2\\nvalue = [1, 1]\\nclass = Migros'),\n",
       " Text(0.03125, 0.08333333333333333, 'gini = 0.0\\nsamples = 1\\nvalue = [1, 0]\\nclass = Migros'),\n",
       " Text(0.09375, 0.08333333333333333, 'gini = 0.0\\nsamples = 1\\nvalue = [0, 1]\\nclass = Migros'),\n",
       " Text(0.125, 0.25, 'gini = 0.0\\nsamples = 10\\nvalue = [10, 0]\\nclass = Migros'),\n",
       " Text(0.296875, 0.5833333333333334, 'lon <= 7.11\\ngini = 0.243\\nsamples = 127\\nvalue = [18, 109]\\nclass = Migros'),\n",
       " Text(0.21875, 0.4166666666666667, 'lon <= 6.566\\ngini = 0.219\\nsamples = 8\\nvalue = [7, 1]\\nclass = Migros'),\n",
       " Text(0.1875, 0.25, 'lat <= 46.497\\ngini = 0.5\\nsamples = 2\\nvalue = [1, 1]\\nclass = Migros'),\n",
       " Text(0.15625, 0.08333333333333333, 'gini = 0.0\\nsamples = 1\\nvalue = [1, 0]\\nclass = Migros'),\n",
       " Text(0.21875, 0.08333333333333333, 'gini = 0.0\\nsamples = 1\\nvalue = [0, 1]\\nclass = Migros'),\n",
       " Text(0.25, 0.25, 'gini = 0.0\\nsamples = 6\\nvalue = [6, 0]\\nclass = Migros'),\n",
       " Text(0.375, 0.4166666666666667, 'emp <= 1577.5\\ngini = 0.168\\nsamples = 119\\nvalue = [11, 108]\\nclass = Migros'),\n",
       " Text(0.3125, 0.25, 'emp <= 795.0\\ngini = 0.104\\nsamples = 109\\nvalue = [6, 103]\\nclass = Migros'),\n",
       " Text(0.28125, 0.08333333333333333, 'gini = 0.0\\nsamples = 75\\nvalue = [0, 75]\\nclass = Migros'),\n",
       " Text(0.34375, 0.08333333333333333, 'gini = 0.291\\nsamples = 34\\nvalue = [6, 28]\\nclass = Migros'),\n",
       " Text(0.4375, 0.25, 'lon <= 9.365\\ngini = 0.5\\nsamples = 10\\nvalue = [5, 5]\\nclass = Migros'),\n",
       " Text(0.40625, 0.08333333333333333, 'gini = 0.408\\nsamples = 7\\nvalue = [2, 5]\\nclass = Migros'),\n",
       " Text(0.46875, 0.08333333333333333, 'gini = 0.0\\nsamples = 3\\nvalue = [3, 0]\\nclass = Migros'),\n",
       " Text(0.71875, 0.75, 'pop_dens <= 28.81\\ngini = 0.201\\nsamples = 414\\nvalue = [367, 47]\\nclass = Migros'),\n",
       " Text(0.583984375, 0.8333333333333333, '  False'),\n",
       " Text(0.6875, 0.5833333333333334, 'gini = 0.0\\nsamples = 4\\nvalue = [0, 4]\\nclass = Migros'),\n",
       " Text(0.75, 0.5833333333333334, 'lon <= 8.448\\ngini = 0.188\\nsamples = 410\\nvalue = [367, 43]\\nclass = Migros'),\n",
       " Text(0.625, 0.4166666666666667, 'emp <= 1321.5\\ngini = 0.081\\nsamples = 237\\nvalue = [227, 10]\\nclass = Migros'),\n",
       " Text(0.5625, 0.25, 'lon <= 8.088\\ngini = 0.469\\nsamples = 8\\nvalue = [5, 3]\\nclass = Migros'),\n",
       " Text(0.53125, 0.08333333333333333, 'gini = 0.278\\nsamples = 6\\nvalue = [5, 1]\\nclass = Migros'),\n",
       " Text(0.59375, 0.08333333333333333, 'gini = 0.0\\nsamples = 2\\nvalue = [0, 2]\\nclass = Migros'),\n",
       " Text(0.6875, 0.25, 'pop_dens <= 253.812\\ngini = 0.059\\nsamples = 229\\nvalue = [222, 7]\\nclass = Migros'),\n",
       " Text(0.65625, 0.08333333333333333, 'gini = 0.269\\nsamples = 25\\nvalue = [21, 4]\\nclass = Migros'),\n",
       " Text(0.71875, 0.08333333333333333, 'gini = 0.029\\nsamples = 204\\nvalue = [201, 3]\\nclass = Migros'),\n",
       " Text(0.875, 0.4166666666666667, 'frg_pct <= 17.392\\ngini = 0.309\\nsamples = 173\\nvalue = [140, 33]\\nclass = Migros'),\n",
       " Text(0.8125, 0.25, 'emp <= 1808.5\\ngini = 0.498\\nsamples = 17\\nvalue = [8, 9]\\nclass = Migros'),\n",
       " Text(0.78125, 0.08333333333333333, 'gini = 0.278\\nsamples = 6\\nvalue = [1, 5]\\nclass = Migros'),\n",
       " Text(0.84375, 0.08333333333333333, 'gini = 0.463\\nsamples = 11\\nvalue = [7, 4]\\nclass = Migros'),\n",
       " Text(0.9375, 0.25, 'pop <= 32812.5\\ngini = 0.26\\nsamples = 156\\nvalue = [132, 24]\\nclass = Migros'),\n",
       " Text(0.90625, 0.08333333333333333, 'gini = 0.332\\nsamples = 114\\nvalue = [90, 24]\\nclass = Migros'),\n",
       " Text(0.96875, 0.08333333333333333, 'gini = 0.0\\nsamples = 42\\nvalue = [42, 0]\\nclass = Migros')]"
      ]
     },
     "execution_count": 9,
     "metadata": {},
     "output_type": "execute_result"
    },
    {
     "data": {
      "image/png": "[encoded data removed]",
      "text/plain": [
       "<Figure size 640x480 with 1 Axes>"
      ]
     },
     "metadata": {},
     "output_type": "display_data"
    }
   ],
   "source": [
    "tree.plot_tree(ctfit,\n",
    "               feature_names= list(x_test.columns),\n",
    "               class_names= df_sub['brand'].tolist(),\n",
    "               filled= True, )"
   ]
  },
  {
   "cell_type": "markdown",
   "metadata": {},
   "source": [
    "Classification report and confussion matrix"
   ]
  },
  {
   "cell_type": "code",
   "execution_count": 10,
   "metadata": {},
   "outputs": [
    {
     "name": "stdout",
     "output_type": "stream",
     "text": [
      "Conf matrix:\n",
      "\n",
      "[[85  5]\n",
      " [19 31]]\n",
      "\n",
      "Classification report: \n",
      "\n",
      "              precision    recall  f1-score   support\n",
      "\n",
      "      Migros       0.82      0.94      0.88        90\n",
      "        Volg       0.86      0.62      0.72        50\n",
      "\n",
      "    accuracy                           0.83       140\n",
      "   macro avg       0.84      0.78      0.80       140\n",
      "weighted avg       0.83      0.83      0.82       140\n",
      "\n"
     ]
    }
   ],
   "source": [
    "print(f'Conf matrix:\\n\\n{confusion_matrix(y_test, ctpred)}\\n\\nClassification report: \\n\\n{classification_report(y_test, ctpred)}')"
   ]
  },
  {
   "cell_type": "code",
   "execution_count": 11,
   "metadata": {},
   "outputs": [
    {
     "data": {
      "image/png": "[encoded data removed]",
      "text/plain": [
       "<Figure size 640x480 with 1 Axes>"
      ]
     },
     "metadata": {},
     "output_type": "display_data"
    }
   ],
   "source": [
    "plt.figure()\n",
    "ax = plt.gca()\n",
    "\n",
    "\n",
    "ctfit_disp = RocCurveDisplay.from_estimator(ctfit, x_test, y_test, ax= ax, alpha= 0.8)"
   ]
  },
  {
   "cell_type": "markdown",
   "metadata": {},
   "source": [
    "### Random Forest Classifier"
   ]
  },
  {
   "cell_type": "code",
   "execution_count": 12,
   "metadata": {},
   "outputs": [],
   "source": [
    "rfc = RandomForestClassifier(random_state=10, max_depth=12)\n",
    "rfcfit = rfc.fit(x_train, y_train)\n",
    "rfcpred = rfc.predict(x_test)"
   ]
  },
  {
   "cell_type": "code",
   "execution_count": 13,
   "metadata": {},
   "outputs": [
    {
     "name": "stdout",
     "output_type": "stream",
     "text": [
      "confusion matrix and classification report:\n",
      "\n",
      "[[79 11]\n",
      " [15 35]]\n",
      "\n",
      "              precision    recall  f1-score   support\n",
      "\n",
      "      Migros       0.84      0.88      0.86        90\n",
      "        Volg       0.76      0.70      0.73        50\n",
      "\n",
      "    accuracy                           0.81       140\n",
      "   macro avg       0.80      0.79      0.79       140\n",
      "weighted avg       0.81      0.81      0.81       140\n",
      "\n"
     ]
    }
   ],
   "source": [
    "print('confusion matrix and classification report:')\n",
    "\n",
    "print(f'\\n{confusion_matrix(y_test, rfcpred)}\\n\\n{classification_report(y_test, rfcpred)}')"
   ]
  },
  {
   "cell_type": "code",
   "execution_count": 14,
   "metadata": {},
   "outputs": [
    {
     "data": {
      "text/plain": [
       "<Axes: ylabel='features'>"
      ]
     },
     "execution_count": 14,
     "metadata": {},
     "output_type": "execute_result"
    },
    {
     "data": {
      "image/png": "[encoded data removed]",
      "text/plain": [
       "<Figure size 640x480 with 1 Axes>"
      ]
     },
     "metadata": {},
     "output_type": "display_data"
    }
   ],
   "source": [
    "cols = x_train.columns\n",
    "importances = rfcfit.feature_importances_\n",
    "df_fi = pd.DataFrame({'features': cols, 'importances': importances})\n",
    "df_fi.sort_values('importances', inplace=True)\n",
    "df_fi.plot(kind='barh',\n",
    "           y = 'importances',\n",
    "           x = 'features')"
   ]
  },
  {
   "cell_type": "code",
   "execution_count": 15,
   "metadata": {},
   "outputs": [
    {
     "data": {
      "image/png": "[encoded data removed]",
      "text/plain": [
       "<Figure size 640x480 with 1 Axes>"
      ]
     },
     "metadata": {},
     "output_type": "display_data"
    }
   ],
   "source": [
    "plt.figure()\n",
    "ax = plt.gca()\n",
    "disp = RocCurveDisplay.from_estimator(rfcfit, \n",
    "                                      x_test, \n",
    "                                      y_test,\n",
    "                                      ax=ax,)"
   ]
  },
  {
   "cell_type": "markdown",
   "metadata": {},
   "source": []
  }
 ],
 "metadata": {
  "kernelspec": {
   "display_name": "Python 3",
   "language": "python",
   "name": "python3"
  },
  "language_info": {
   "codemirror_mode": {
    "name": "ipython",
    "version": 3
   },
   "file_extension": ".py",
   "mimetype": "text/x-python",
   "name": "python",
   "nbconvert_exporter": "python",
   "pygments_lexer": "ipython3",
   "version": "3.10.5"
  }
 },
 "nbformat": 4,
 "nbformat_minor": 2
}
