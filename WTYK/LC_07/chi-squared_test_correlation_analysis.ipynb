{
 "cells": [
  {
   "cell_type": "markdown",
   "metadata": {},
   "source": [
    "# Perform a Chi-squared test of independence"
   ]
  },
  {
   "cell_type": "markdown",
   "metadata": {},
   "source": [
    "## Libraries and settings"
   ]
  },
  {
   "cell_type": "code",
   "execution_count": 1,
   "metadata": {},
   "outputs": [
    {
     "name": "stdout",
     "output_type": "stream",
     "text": [
      "c:\\Users\\diego\\OneDrive\\Documentos\\GitHub\\data_analytics_zhaw\\WTYK\\LC_07\n"
     ]
    }
   ],
   "source": [
    "# Libraries\n",
    "import os\n",
    "import scipy\n",
    "import numpy as np\n",
    "import pandas as pd\n",
    "import seaborn as sns\n",
    "import matplotlib.pyplot as plt\n",
    "from scipy.stats import chi2\n",
    "from scipy.stats import chi2_contingency\n",
    "\n",
    "# Plot style settings\n",
    "plt.style.use('dark_background')\n",
    "\n",
    "# Ignore warnings\n",
    "import warnings\n",
    "warnings.filterwarnings('ignore')\n",
    "\n",
    "# Get current working directory\n",
    "print(os.getcwd())"
   ]
  },
  {
   "cell_type": "markdown",
   "metadata": {},
   "source": [
    "## Contingency table"
   ]
  },
  {
   "cell_type": "code",
   "execution_count": 2,
   "metadata": {},
   "outputs": [],
   "source": [
    "# Contingency table table showing the number of men and women buying different types of pets.     \n",
    "#         dog  cat  bird\n",
    "#    men\t 207  282  241\n",
    "#  women\t 234  242  232\n",
    "\n",
    "# Create a contingency table\n",
    "tab = np.array([[207, 282, 241],\n",
    "                [234, 242, 232]])\n"
   ]
  },
  {
   "cell_type": "markdown",
   "metadata": {},
   "source": [
    "## Perform a Chi-square test on the contingency table"
   ]
  },
  {
   "cell_type": "code",
   "execution_count": 3,
   "metadata": {},
   "outputs": [
    {
     "name": "stdout",
     "output_type": "stream",
     "text": [
      "Expected frequencies: \n",
      " [[223.8734 266.0083 240.1182]\n",
      " [217.1266 257.9917 232.8818]]\n",
      "Critical value: 5.991464547107979\n",
      "Test statistic: 4.5422\n",
      "Degrees of freedom: 2\n",
      "P-value: 0.10319714047309392\n"
     ]
    }
   ],
   "source": [
    "# Null- and alternative hypothesis\n",
    "# H0 = There is no association [relationship] between the gender and type of pet \n",
    "# H1 = There is an association [relationship] between the gender and type of pet \n",
    "\n",
    "# alpha\n",
    "alpha = 0.05\n",
    "\n",
    "# 1-alpha\n",
    "prob = 0.95\n",
    "\n",
    "# Chi-squared test\n",
    "stat, p, dof, expected = chi2_contingency(tab)\n",
    "\n",
    "# Critical value\n",
    "critical = chi2.ppf(prob,dof)\n",
    "\n",
    "\n",
    "# Print results of the Chi-square test\n",
    "print(f'Expected frequencies: \\n {expected.round(4)}')\n",
    "print(f'Critical value: {critical}')\n",
    "print(f'Test statistic: {stat.round(4)}')\n",
    "print(f'Degrees of freedom: {dof}')\n",
    "print(f'P-value: {p}')"
   ]
  },
  {
   "cell_type": "markdown",
   "metadata": {},
   "source": [
    "# Interpretation of test result"
   ]
  },
  {
   "cell_type": "code",
   "execution_count": null,
   "metadata": {},
   "outputs": [],
   "source": [
    "# Conclusion\n"
   ]
  },
  {
   "cell_type": "markdown",
   "metadata": {},
   "source": [
    "## Perform a correlation analysis"
   ]
  },
  {
   "cell_type": "markdown",
   "metadata": {},
   "source": [
    "## Simulate numerical data "
   ]
  },
  {
   "cell_type": "code",
   "execution_count": null,
   "metadata": {},
   "outputs": [],
   "source": [
    "# Linear algebra function\n",
    "linalg = np.linalg\n",
    "\n",
    "# Sample size\n",
    "np.random.seed(1)\n",
    "num_samples = 1000\n",
    "num_variables = 2\n",
    "\n",
    "# Covariance matrix\n",
    "cov = [[0.3, 0.2], [0.2, 0.2]]\n",
    "\n",
    "# Simulation of data\n",
    "L = linalg.cholesky(cov)\n",
    "uncorrelated = np.random.standard_normal((num_variables, num_samples))\n",
    "\n",
    "\n",
    "# Figure\n"
   ]
  },
  {
   "cell_type": "markdown",
   "metadata": {},
   "source": [
    "## Calculate Pearson correlation coefficient (r)"
   ]
  },
  {
   "cell_type": "code",
   "execution_count": null,
   "metadata": {},
   "outputs": [],
   "source": [
    "# Persons correlation coefficient\n",
    "# r = cov(X,Y) / sqrt(var(X)*var(Y))\n",
    "\n",
    "# Perform Pearson's correlation\n",
    "\n",
    "\n",
    "# Persons correlation coefficient\n"
   ]
  },
  {
   "cell_type": "markdown",
   "metadata": {},
   "source": [
    "## Calculate Pearson correlation coefficient (r) with p-value"
   ]
  },
  {
   "cell_type": "code",
   "execution_count": null,
   "metadata": {},
   "outputs": [],
   "source": [
    "# Perform Pearson's correlation\n",
    "\n",
    "\n",
    "# Persons correlation coefficient\n",
    "\n",
    "\n",
    "# p-value\n"
   ]
  },
  {
   "cell_type": "markdown",
   "metadata": {},
   "source": [
    "# Interpretation of correlation analysis results"
   ]
  },
  {
   "cell_type": "code",
   "execution_count": null,
   "metadata": {},
   "outputs": [],
   "source": [
    "# Conclusion\n"
   ]
  },
  {
   "cell_type": "markdown",
   "metadata": {},
   "source": [
    "### Jupyter notebook --footer info-- (please always provide this at the end of each submitted notebook)"
   ]
  },
  {
   "cell_type": "code",
   "execution_count": null,
   "metadata": {},
   "outputs": [],
   "source": [
    "import os\n",
    "import platform\n",
    "import socket\n",
    "from platform import python_version\n",
    "from datetime import datetime\n",
    "\n",
    "print('-----------------------------------')\n",
    "print(os.name.upper())\n",
    "print(platform.system(), '|', platform.release())\n",
    "print('Datetime:', datetime.now().strftime(\"%Y-%m-%d %H:%M:%S\"))\n",
    "print('Python Version:', python_version())\n",
    "print('-----------------------------------')"
   ]
  }
 ],
 "metadata": {
  "kernelspec": {
   "display_name": "Python 3",
   "language": "python",
   "name": "python3"
  },
  "language_info": {
   "codemirror_mode": {
    "name": "ipython",
    "version": 3
   },
   "file_extension": ".py",
   "mimetype": "text/x-python",
   "name": "python",
   "nbconvert_exporter": "python",
   "pygments_lexer": "ipython3",
   "version": "3.10.5"
  }
 },
 "nbformat": 4,
 "nbformat_minor": 2
}
